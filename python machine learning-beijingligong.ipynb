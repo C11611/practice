{
 "cells": [
  {
   "cell_type": "markdown",
   "metadata": {},
   "source": [
    "# load the data"
   ]
  },
  {
   "cell_type": "code",
   "execution_count": 2,
   "metadata": {},
   "outputs": [
    {
     "name": "stdout",
     "output_type": "stream",
     "text": [
      "(506, 13)\n"
     ]
    }
   ],
   "source": [
    "from sklearn.datasets import load_boston\n",
    "boston=load_boston()\n",
    "print(boston.data.shape)"
   ]
  },
  {
   "cell_type": "code",
   "execution_count": 3,
   "metadata": {},
   "outputs": [
    {
     "name": "stdout",
     "output_type": "stream",
     "text": [
      "['北京市', '天津市', '上海市', '重庆市', '河北省', '山西省', '辽宁省', '吉林省', '黑龙江省', '江苏省', '浙江省', '安徽省', '福建省', '江西省', '山东省', '河南省', '湖北省', '湖南省', '广东省', '海南省', '四川省', '贵州省', '云南省', '陕西省', '甘肃省', '青海省', '台湾省', '内蒙古自治区', '广西壮族自治区', '西藏自治区', '宁夏回族自治区', '新疆维吾尔自治区', '香港特别行政区', '澳门特别行政区']\n"
     ]
    }
   ],
   "source": [
    "cities=\"北京市，天津市，上海市，重庆市，河北省，山西省，辽宁省，吉林省，黑龙江省，江苏省，浙江省，安徽省，福建省，江西省，山东省，河南省，湖北省，湖南省，广东省，海南省，四川省，贵州省，云南省，陕西省，甘肃省，青海省，台湾省，内蒙古自治区，广西壮族自治区，西藏自治区，宁夏回族自治区，新疆维吾尔自治区，香港特别行政区，澳门特别行政区\"\n",
    "cities=cities.split(\"，\")\n",
    "print(cities)"
   ]
  },
  {
   "cell_type": "markdown",
   "metadata": {
    "collapsed": true
   },
   "source": [
    "# k-means 消费水明聚类"
   ]
  },
  {
   "cell_type": "code",
   "execution_count": 2,
   "metadata": {},
   "outputs": [
    {
     "name": "stdout",
     "output_type": "stream",
     "text": [
      "['澳门特别行政区', '香港特别行政区', '新疆维吾尔自治区', '宁夏回族自治区', '西藏自治区', '广西壮族自治区', '内蒙古自治区', '台湾省', '青海省', '甘肃省', '陕西省', '云南省', '贵州省', '四川省', '海南省', '广东省', '湖南省', '湖北省', '河南省', '山东省', '江西省', '福建省', '安徽省', '浙江省', '江苏省', '黑龙江省', '吉林省', '辽宁省', '山西省', '河北省', '重庆市', '上海市', '天津市', '北京市']\n",
      "[1 1 1 1 1 1 1 1 1 1 1 1 2 2 2 2 2 2 2 2 2 2 2 0 0 0 0 0 0 0 0 0 0 0]\n",
      "Expense:227807.64\n",
      "['浙江省', '江苏省', '黑龙江省', '吉林省', '辽宁省', '山西省', '河北省', '重庆市', '上海市', '天津市', '北京市']\n",
      "Expense:47944.17\n",
      "['澳门特别行政区', '香港特别行政区', '新疆维吾尔自治区', '宁夏回族自治区', '西藏自治区', '广西壮族自治区', '内蒙古自治区', '台湾省', '青海省', '甘肃省', '陕西省', '云南省']\n",
      "Expense:139872.91\n",
      "['贵州省', '四川省', '海南省', '广东省', '湖南省', '湖北省', '河南省', '山东省', '江西省', '福建省', '安徽省']\n"
     ]
    }
   ],
   "source": [
    "# make the data\n",
    "import numpy as np\n",
    "import pandas as pd\n",
    "from sklearn.cluster import KMeans\n",
    "\n",
    "#to load the cities\n",
    "cities=\"北京市，天津市，上海市，重庆市，河北省，山西省，辽宁省，吉林省，黑龙江省，江苏省，浙江省，安徽省，福建省，江西省，山东省，河南省，湖北省，湖南省，广东省，海南省，四川省，贵州省，云南省，陕西省，甘肃省，青海省，台湾省，内蒙古自治区，广西壮族自治区，西藏自治区，宁夏回族自治区，新疆维吾尔自治区，香港特别行政区，澳门特别行政区\"\n",
    "cities=cities.split(\"，\")\n",
    "cities.reverse()\n",
    "print(cities)\n",
    "\n",
    "# columns=[\"食品\",\"衣着\",\"家庭设备用品及服务\",\"医疗保健\",\"交通和通讯\",\"娱乐教育文化服务\",\"居住\",\"余项商品和服务\"]\n",
    "\n",
    "# data[\"城市\"]=cities\n",
    "\n",
    "\n",
    "low=1\n",
    "high=1000\n",
    "num=8\n",
    "columns_data=[]\n",
    "for i in range(0,34):\n",
    "    random_data=np.random.randint(low,high,num).tolist()\n",
    "    columns_data.append(random_data)\n",
    "    low=low+1000\n",
    "    high=high+1000\n",
    "\n",
    "# for i in range(0,8):\n",
    "#     data[columns[i]]=columns_data[i]\n",
    "    \n",
    "# to use the k-means\n",
    "km=KMeans(n_clusters=3,max_iter=30000)\n",
    "label=km.fit_predict(columns_data)\n",
    "print(label)\n",
    "#print(km.cluster_centers_)\n",
    "expenses=np.sum(km.cluster_centers_,axis=1)\n",
    "CityCluster=[[],[],[]]\n",
    "# print(len(cities))\n",
    "for i in range(len(cities)):\n",
    "    CityCluster[label[i]].append(cities[i])\n",
    "#     print(label[i])\n",
    "#     print(cities[i])\n",
    "for i in range(len(CityCluster)):\n",
    "    print(\"Expense:%.2f\"%expenses[i])\n",
    "    print(CityCluster[i])\n"
   ]
  },
  {
   "cell_type": "code",
   "execution_count": null,
   "metadata": {},
   "outputs": [],
   "source": []
  },
  {
   "cell_type": "code",
   "execution_count": null,
   "metadata": {},
   "outputs": [],
   "source": []
  },
  {
   "cell_type": "code",
   "execution_count": null,
   "metadata": {},
   "outputs": [],
   "source": []
  }
 ],
 "metadata": {
  "kernelspec": {
   "display_name": "Python 3",
   "language": "python",
   "name": "python3"
  },
  "language_info": {
   "codemirror_mode": {
    "name": "ipython",
    "version": 3
   },
   "file_extension": ".py",
   "mimetype": "text/x-python",
   "name": "python",
   "nbconvert_exporter": "python",
   "pygments_lexer": "ipython3",
   "version": "3.6.5"
  }
 },
 "nbformat": 4,
 "nbformat_minor": 2
}
