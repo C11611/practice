{
 "cells": [
  {
   "cell_type": "code",
   "execution_count": 1,
   "metadata": {},
   "outputs": [
    {
     "name": "stdout",
     "output_type": "stream",
     "text": [
      "foo 1 2\n",
      "bar hello\n",
      "foo 3 4\n"
     ]
    }
   ],
   "source": [
    "records=[('foo',1,2),('bar','hello'),('foo',3,4)]\n",
    "def do_foo(x,y):\n",
    "    print('foo',x,y)\n",
    "def do_bar(s):\n",
    "    print('bar',s)\n",
    "    \n",
    "for tag,*args in records:\n",
    "    if tag=='foo':\n",
    "        do_foo(*args)\n",
    "    elif tag=='bar':\n",
    "        do_bar(*args)\n"
   ]
  },
  {
   "cell_type": "code",
   "execution_count": 1,
   "metadata": {},
   "outputs": [
    {
     "data": {
      "text/plain": [
       "'/usr/bin/false'"
      ]
     },
     "execution_count": 1,
     "metadata": {},
     "output_type": "execute_result"
    }
   ],
   "source": [
    "line='nobody:*:-2:-2:Unprivileged User:/var/empty:/usr/bin/false'\n",
    "uname,*fields,homedir,sh=line.split(':')\n",
    "sh"
   ]
  },
  {
   "cell_type": "code",
   "execution_count": 3,
   "metadata": {},
   "outputs": [
    {
     "data": {
      "text/plain": [
       "'ACME'"
      ]
     },
     "execution_count": 3,
     "metadata": {},
     "output_type": "execute_result"
    }
   ],
   "source": [
    "record=('ACME',50,123.45,(12,18,2012))\n",
    "name,*_,(*_,year)=record\n",
    "name"
   ]
  },
  {
   "cell_type": "code",
   "execution_count": 8,
   "metadata": {},
   "outputs": [
    {
     "data": {
      "text/plain": [
       "700"
      ]
     },
     "execution_count": 8,
     "metadata": {},
     "output_type": "execute_result"
    }
   ],
   "source": [
    "items=[1,2,34,654,9]\n",
    "def sum(items):\n",
    "    head,*tail,=items\n",
    "    return head+sum(tail) if tail else head ###??????\n",
    "sum(items)"
   ]
  },
  {
   "cell_type": "markdown",
   "metadata": {},
   "source": [
    "# finding the largest or smallest n tiems"
   ]
  },
  {
   "cell_type": "code",
   "execution_count": 12,
   "metadata": {},
   "outputs": [
    {
     "name": "stdout",
     "output_type": "stream",
     "text": [
      "[432, 323, 54]\n",
      "[-554, 1]\n"
     ]
    }
   ],
   "source": [
    "import heapq\n",
    "nums=[1,2,54,323,-554,23,432]\n",
    "print(heapq.nlargest(3,nums))\n",
    "print(heapq.nsmallest(2,nums))"
   ]
  },
  {
   "cell_type": "markdown",
   "metadata": {},
   "source": [
    "# think in python"
   ]
  },
  {
   "cell_type": "code",
   "execution_count": 5,
   "metadata": {},
   "outputs": [
    {
     "name": "stdout",
     "output_type": "stream",
     "text": [
      "the s speed is 0.0024243482139826703\n",
      "the h speed is 8.727653570337614\n",
      "the m speed is 0.14546089283896022\n"
     ]
    }
   ],
   "source": [
    "def caculatespeed(maile,usetime,timetype):\n",
    "    mile2=maile\n",
    "    timeuse=usetime\n",
    "    speed=mile2/timeuse\n",
    "    timetype=timetype\n",
    "    print (\"the %s speed is %s\"%(timetype,speed))\n",
    "def converttime(useminite,usesecond,timety):\n",
    "    usety=timety\n",
    "    if usety=='s':\n",
    "        wholetime=useminite*60+usesecond\n",
    "    elif usety=='h':\n",
    "        wholetime=useminite/60+usesecond/3600\n",
    "    elif usety=='m':\n",
    "        wholetime=useminite+usesecond/60   \n",
    "    else:\n",
    "        wholetime=0\n",
    "    return wholetime\n",
    "\n",
    "if __name__==\"__main__\":\n",
    "    mini=42\n",
    "    sec=42\n",
    "    wholemaiel=10/1.61\n",
    "    a=['s','h','m']\n",
    "    for i in a:\n",
    "        wholetime=converttime(mini,sec,i)\n",
    "        caculatespeed(wholemaiel,wholetime,i)\n",
    "    \n"
   ]
  },
  {
   "cell_type": "markdown",
   "metadata": {
    "collapsed": true
   },
   "source": [
    "# think in python  chapter2"
   ]
  },
  {
   "cell_type": "code",
   "execution_count": 2,
   "metadata": {},
   "outputs": [
    {
     "data": {
      "text/plain": [
       "'f3gsfh3'"
      ]
     },
     "execution_count": 2,
     "metadata": {},
     "output_type": "execute_result"
    }
   ],
   "source": [
    "a=\"fdgsfhd\"\n",
    "b=a.replace('d','3')\n",
    "b"
   ]
  },
  {
   "cell_type": "code",
   "execution_count": 2,
   "metadata": {},
   "outputs": [
    {
     "name": "stdout",
     "output_type": "stream",
     "text": [
      "18190.7\n"
     ]
    }
   ],
   "source": [
    "def computeCost(num):\n",
    "    if num>=300000:\n",
    "        return num*0.05\n",
    "    elif num>=150000& num<300000:\n",
    "        return (num-150000)*0.05+150000*0.08\n",
    "    elif num<150000:\n",
    "        return num*0.08\n",
    "\n",
    "ymt=174151\n",
    "xlobo=99663\n",
    "total=ymt+xlobo\n",
    "cost=computeCost(total)\n",
    "print(cost)\n"
   ]
  },
  {
   "cell_type": "code",
   "execution_count": 3,
   "metadata": {},
   "outputs": [
    {
     "data": {
      "text/plain": [
       "12000.0"
      ]
     },
     "execution_count": 3,
     "metadata": {},
     "output_type": "execute_result"
    }
   ],
   "source": [
    "150000*0.08"
   ]
  },
  {
   "cell_type": "code",
   "execution_count": 4,
   "metadata": {},
   "outputs": [
    {
     "data": {
      "text/plain": [
       "6190.700000000001"
      ]
     },
     "execution_count": 4,
     "metadata": {},
     "output_type": "execute_result"
    }
   ],
   "source": [
    "((174151+99663)-150000)*0.05"
   ]
  },
  {
   "cell_type": "code",
   "execution_count": null,
   "metadata": {},
   "outputs": [],
   "source": []
  }
 ],
 "metadata": {
  "kernelspec": {
   "display_name": "Python 3",
   "language": "python",
   "name": "python3"
  },
  "language_info": {
   "codemirror_mode": {
    "name": "ipython",
    "version": 3
   },
   "file_extension": ".py",
   "mimetype": "text/x-python",
   "name": "python",
   "nbconvert_exporter": "python",
   "pygments_lexer": "ipython3",
   "version": "3.6.5"
  }
 },
 "nbformat": 4,
 "nbformat_minor": 2
}
