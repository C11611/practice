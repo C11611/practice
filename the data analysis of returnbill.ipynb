{
 "cells": [
  {
   "cell_type": "code",
   "execution_count": 20,
   "metadata": {},
   "outputs": [
    {
     "name": "stdout",
     "output_type": "stream",
     "text": [
      "0.947155154872\n",
      "0\n",
      "      ID_SellerId  ordercnt  dealordercntin48  dealrate\n",
      "107      20053630       195                58  0.297436\n",
      "323      13000219        59                22  0.372881\n",
      "355      20774244        52                 9  0.173077\n",
      "505      17154043        34                15  0.441176\n",
      "571      21001228        29                 7  0.241379\n",
      "579      16232695        28                 7  0.250000\n",
      "595      17870499        27                 7  0.259259\n",
      "787        481998        15                 1  0.066667\n",
      "821      20293116        14                 3  0.214286\n",
      "860       2645083        13                 5  0.384615\n",
      "932       4519408        11                 1  0.090909\n",
      "935      13004862        11                 4  0.363636\n",
      "942      17277617        11                 1  0.090909\n",
      "1009      1505247         9                 2  0.222222\n",
      "1036      7318985         9                 4  0.444444\n",
      "1043     17223534         9                 4  0.444444\n",
      "1058     20308544         9                 4  0.444444\n",
      "1094     20780058         8                 2  0.250000\n",
      "1109     16620006         8                 3  0.375000\n",
      "1207     20736478         7                 1  0.142857\n",
      "1237     20577404         6                 2  0.333333\n",
      "1260     20985645         6                 2  0.333333\n",
      "1322       638030         5                 2  0.400000\n",
      "1325      1453245         5                 2  0.400000\n",
      "1331       478028         5                 0  0.000000\n",
      "1337      3645756         5                 2  0.400000\n",
      "1374     17078064         5                 0  0.000000\n",
      "1463     21015065         4                 1  0.250000\n",
      "1499     17125060         4                 0  0.000000\n",
      "1514     11748004         4                 1  0.250000\n",
      "...           ...       ...               ...       ...\n",
      "2274     18464817         1                 0  0.000000\n",
      "2275     18454707         1                 0  0.000000\n",
      "2278     20051114         1                 0  0.000000\n",
      "2291     18233370         1                 0  0.000000\n",
      "2305     17866966         1                 0  0.000000\n",
      "2323     20814249         1                 0  0.000000\n",
      "2324     20795206         1                 0  0.000000\n",
      "2325     20780803         1                 0  0.000000\n",
      "2327     20764834         1                 0  0.000000\n",
      "2329     20758846         1                 0  0.000000\n",
      "2330     20759927         1                 0  0.000000\n",
      "2334     20658847         1                 0  0.000000\n",
      "2342     20686043         1                 0  0.000000\n",
      "2353     21027071         1                 0  0.000000\n",
      "2356     21001873         1                 0  0.000000\n",
      "2362     20995613         1                 0  0.000000\n",
      "2368     20969917         1                 0  0.000000\n",
      "2369     20949562         1                 0  0.000000\n",
      "2371     20926962         1                 0  0.000000\n",
      "2376     20192193         1                 0  0.000000\n",
      "2377     20188543         1                 0  0.000000\n",
      "2382     20157019         1                 0  0.000000\n",
      "2398     20247548         1                 0  0.000000\n",
      "2416     20454673         1                 0  0.000000\n",
      "2423     20573900         1                 0  0.000000\n",
      "2424     20485680         1                 0  0.000000\n",
      "2448     21303246         1                 0  0.000000\n",
      "2455     21178964         1                 0  0.000000\n",
      "2465     21071853         1                 0  0.000000\n",
      "2469     21044287         1                 0  0.000000\n",
      "\n",
      "[137 rows x 4 columns]\n"
     ]
    },
    {
     "name": "stderr",
     "output_type": "stream",
     "text": [
      "/Users/four/anaconda3/lib/python3.6/site-packages/ipykernel_launcher.py:5: SettingWithCopyWarning: \n",
      "A value is trying to be set on a copy of a slice from a DataFrame.\n",
      "Try using .loc[row_indexer,col_indexer] = value instead\n",
      "\n",
      "See the caveats in the documentation: http://pandas.pydata.org/pandas-docs/stable/indexing.html#indexing-view-versus-copy\n",
      "  \"\"\"\n"
     ]
    }
   ],
   "source": [
    "import pandas as pd\n",
    "\n",
    "df=pd.read_excel(\"/Users/four/Downloads/退货退款买手审核.xlsx\")\n",
    "df_dealin48=df[['ID_SellerId','ordercnt','dealordercntin48']]\n",
    "df_dealin48['dealrate']=df_dealin48['dealordercntin48']/df_dealin48['ordercnt']\n",
    "print(sum(df_dealin48['dealordercntin48']/sum(df_dealin48['ordercnt'])))\n",
    "print(min(df_dealin48['dealordercntin48'])) \n",
    "#print(df_dealin48.describe)\n",
    "print(df_dealin48.loc[df_dealin48['dealrate']<0.5])\n"
   ]
  },
  {
   "cell_type": "code",
   "execution_count": 1,
   "metadata": {},
   "outputs": [
    {
     "name": "stdout",
     "output_type": "stream",
     "text": [
      "长时间不发货-贝海直邮、第三方直邮、拼邮-退单量\n"
     ]
    },
    {
     "name": "stderr",
     "output_type": "stream",
     "text": [
      "/Users/four/anaconda3/lib/python3.6/site-packages/ipykernel_launcher.py:5: SettingWithCopyWarning: \n",
      "A value is trying to be set on a copy of a slice from a DataFrame.\n",
      "Try using .loc[row_indexer,col_indexer] = value instead\n",
      "\n",
      "See the caveats in the documentation: http://pandas.pydata.org/pandas-docs/stable/indexing.html#indexing-view-versus-copy\n",
      "  \"\"\"\n"
     ]
    },
    {
     "ename": "NameError",
     "evalue": "name 'dfNoReciveGW' is not defined",
     "output_type": "error",
     "traceback": [
      "\u001b[0;31m---------------------------------------------------------------------------\u001b[0m",
      "\u001b[0;31mNameError\u001b[0m                                 Traceback (most recent call last)",
      "\u001b[0;32m<ipython-input-1-9ad6ce59c4ab>\u001b[0m in \u001b[0;36m<module>\u001b[0;34m()\u001b[0m\n\u001b[1;32m     36\u001b[0m \u001b[0mdfNoReciveGw\u001b[0m\u001b[0;34m=\u001b[0m\u001b[0mcutgroup\u001b[0m\u001b[0;34m(\u001b[0m\u001b[0mdf_norecive1\u001b[0m\u001b[0;34m,\u001b[0m\u001b[0mbins\u001b[0m\u001b[0;34m,\u001b[0m\u001b[0mcutby\u001b[0m\u001b[0;34m)\u001b[0m\u001b[0;34m\u001b[0m\u001b[0m\n\u001b[1;32m     37\u001b[0m \u001b[0mprint\u001b[0m\u001b[0;34m(\u001b[0m\u001b[0;34m\"长时间不发货-贝海直邮、第三方直邮、拼邮-退单量\"\u001b[0m\u001b[0;34m)\u001b[0m\u001b[0;34m\u001b[0m\u001b[0m\n\u001b[0;32m---> 38\u001b[0;31m \u001b[0mprint\u001b[0m\u001b[0;34m(\u001b[0m\u001b[0mdfNoReciveGW\u001b[0m\u001b[0;34m)\u001b[0m\u001b[0;34m\u001b[0m\u001b[0m\n\u001b[0m\u001b[1;32m     39\u001b[0m \u001b[0mprint\u001b[0m\u001b[0;34m(\u001b[0m\u001b[0;34m\"\\n\"\u001b[0m\u001b[0;34m)\u001b[0m\u001b[0;34m\u001b[0m\u001b[0m\n\u001b[1;32m     40\u001b[0m \u001b[0;34m\u001b[0m\u001b[0m\n",
      "\u001b[0;31mNameError\u001b[0m: name 'dfNoReciveGW' is not defined"
     ]
    }
   ],
   "source": [
    "# the reasons of returnbill\n",
    "import pandas as pd\n",
    "\n",
    "def cutgroup(df,bins,cutby):\n",
    "    df[\"gapgroup\"]=pd.cut(df[cutby],bins)\n",
    "    df_group=pd.DataFrame(df[\"gapgroup\"].value_counts().sort_index())\n",
    "    df_group[\"percent\"]=df_group/df_group[\"gapgroup\"].sum()\n",
    "    df_group.columns = ['数量','占比']\n",
    "    return df_group\n",
    "df=pd.read_excel(\"data/退单定责20180420-20180620.xlsx\")\n",
    "df_presell=df[\"是否预定商品\"].value_counts()\n",
    "\n",
    "# the no presell products return bill  the reason of long time no recive\n",
    "df_norecive=df.loc[(df[\"是否预定商品\"]==\"否\")&(df[\"退款原因\"]==\"长时间未收到货\")]\n",
    "\n",
    "# the no presell products return bill  the reason of long time no send\n",
    "df_nosend=df.loc[(df[\"是否预定商品\"]==\"否\")&(df[\"退款原因\"]==\"买手长时间不发货\")]\n",
    "\n",
    "\n",
    "#贝海直邮、第三方直邮、拼邮 \n",
    "logistic1=[\"贝海直邮\",\"第三方直邮\",\"拼邮\"]\n",
    "df_norecive1=df_norecive.loc[df_norecive[\"物流方式\"].isin(logistic1)]\n",
    "df_nosend1=df_nosend.loc[df_nosend[\"物流方式\"].isin(logistic1)]\n",
    "\n",
    "\n",
    "#贝海保税、第三方保税、国内快递\n",
    "logistic2=[\"贝海保税\",\"第三方保税\",\"国内快递\"]\n",
    "df_norecive2=df_norecive.loc[df_norecive[\"物流方式\"].isin(logistic2)]\n",
    "df_nosend2=df_nosend.loc[df_nosend[\"物流方式\"].isin(logistic2)]\n",
    "\n",
    "# define bins and cutby\n",
    "bins=[-1,3,6,9,12,30,10000]\n",
    "cutby=\"最新申请时间减去付款时间(天)\"\n",
    "\n",
    "# use function to compute the percents\n",
    "dfNoReciveGw=cutgroup(df_norecive1,bins,cutby)\n",
    "print(\"长时间不发货-贝海直邮、第三方直邮、拼邮-退单量\")\n",
    "print(dfNoReciveGW)\n",
    "print(\"\\n\")\n",
    "\n",
    "dfNoReciveGn=cutgroup(df_norecive2,bins,cutby)\n",
    "print(\"长时间不发货-贝海保税、第三方保税、进口贸易-退单量\")\n",
    "print(dfNoReciveGn)\n",
    "print(\"\\n\")\n",
    "\n",
    "dfNoSendGw=cutgroup(df_nosend1,bins,cutby)\n",
    "print(\"买手长时间不发货-贝海直邮、第三方直邮、拼邮-退单量\")\n",
    "print(dfNoSendGw)\n",
    "print(\"\\n\")\n",
    "\n",
    "dfNoSendGn=cutgroup(df_nosend2,bins,cutby)\n",
    "print(\"买手长时间不发货-贝海保税、第三方保税、进口贸易-退单量\")\n",
    "print(dfNoSendGn)\n",
    "print(\"\\n\")\n",
    "\n"
   ]
  },
  {
   "cell_type": "code",
   "execution_count": 122,
   "metadata": {},
   "outputs": [
    {
     "data": {
      "text/html": [
       "<div>\n",
       "<style>\n",
       "    .dataframe thead tr:only-child th {\n",
       "        text-align: right;\n",
       "    }\n",
       "\n",
       "    .dataframe thead th {\n",
       "        text-align: left;\n",
       "    }\n",
       "\n",
       "    .dataframe tbody tr th {\n",
       "        vertical-align: top;\n",
       "    }\n",
       "</style>\n",
       "<table border=\"1\" class=\"dataframe\">\n",
       "  <thead>\n",
       "    <tr style=\"text-align: right;\">\n",
       "      <th></th>\n",
       "      <th>退单号</th>\n",
       "      <th>订单号</th>\n",
       "      <th>物流方式</th>\n",
       "      <th>是否预定商品</th>\n",
       "      <th>买手名</th>\n",
       "      <th>退款类型</th>\n",
       "      <th>退款原因</th>\n",
       "      <th>当前退单状态</th>\n",
       "      <th>客服定责</th>\n",
       "      <th>定责备注</th>\n",
       "      <th>定责人</th>\n",
       "      <th>定责时间</th>\n",
       "      <th>何时申请退款</th>\n",
       "      <th>订单付款时间</th>\n",
       "      <th>退单第一次申请时间</th>\n",
       "      <th>退单最新一次申请时间</th>\n",
       "      <th>最新申请时间减去付款时间(天)</th>\n",
       "      <th>最新申请时间减去第一次申请时间(天)</th>\n",
       "    </tr>\n",
       "  </thead>\n",
       "  <tbody>\n",
       "    <tr>\n",
       "      <th>0</th>\n",
       "      <td>TH1804200003</td>\n",
       "      <td>133385632</td>\n",
       "      <td>贝海直邮</td>\n",
       "      <td>否</td>\n",
       "      <td>MPOZ</td>\n",
       "      <td>仅退款</td>\n",
       "      <td>买手缺货</td>\n",
       "      <td>退单成功</td>\n",
       "      <td>NaN</td>\n",
       "      <td>NaN</td>\n",
       "      <td>NaN</td>\n",
       "      <td>2018-04-20 00:00:08.427</td>\n",
       "      <td>接单前</td>\n",
       "      <td>2018-04-19 23:00:20.683</td>\n",
       "      <td>2018-04-20 00:00:08.443</td>\n",
       "      <td>2018-04-20 00:00:08.443</td>\n",
       "      <td>1</td>\n",
       "      <td>0</td>\n",
       "    </tr>\n",
       "    <tr>\n",
       "      <th>1</th>\n",
       "      <td>TH1804200004</td>\n",
       "      <td>133381735</td>\n",
       "      <td>拼邮</td>\n",
       "      <td>否</td>\n",
       "      <td>SEVENITALY</td>\n",
       "      <td>仅退款</td>\n",
       "      <td>买手缺货</td>\n",
       "      <td>退单成功</td>\n",
       "      <td>NaN</td>\n",
       "      <td>NaN</td>\n",
       "      <td>NaN</td>\n",
       "      <td>2018-04-20 00:00:28.777</td>\n",
       "      <td>接单前</td>\n",
       "      <td>2018-04-19 19:55:09.923</td>\n",
       "      <td>2018-04-20 00:00:28.780</td>\n",
       "      <td>2018-04-20 00:00:28.780</td>\n",
       "      <td>1</td>\n",
       "      <td>0</td>\n",
       "    </tr>\n",
       "    <tr>\n",
       "      <th>2</th>\n",
       "      <td>TH1804200023</td>\n",
       "      <td>133340986</td>\n",
       "      <td>贝海直邮</td>\n",
       "      <td>否</td>\n",
       "      <td>小卓小柔</td>\n",
       "      <td>仅退款</td>\n",
       "      <td>买手缺货</td>\n",
       "      <td>退单成功</td>\n",
       "      <td>NaN</td>\n",
       "      <td>NaN</td>\n",
       "      <td>NaN</td>\n",
       "      <td>2018-04-20 00:06:36.073</td>\n",
       "      <td>接单前</td>\n",
       "      <td>2018-04-17 22:23:20.663</td>\n",
       "      <td>2018-04-20 00:06:36.060</td>\n",
       "      <td>2018-04-20 00:06:36.060</td>\n",
       "      <td>3</td>\n",
       "      <td>0</td>\n",
       "    </tr>\n",
       "    <tr>\n",
       "      <th>3</th>\n",
       "      <td>TH1804200030</td>\n",
       "      <td>132670074</td>\n",
       "      <td>第三方直邮</td>\n",
       "      <td>否</td>\n",
       "      <td>悦购淘欧洲</td>\n",
       "      <td>仅退款</td>\n",
       "      <td>没有收到货</td>\n",
       "      <td>退单成功</td>\n",
       "      <td>NaN</td>\n",
       "      <td>NaN</td>\n",
       "      <td>NaN</td>\n",
       "      <td>2018-04-20 00:08:14.227</td>\n",
       "      <td>接单后</td>\n",
       "      <td>2018-03-13 10:19:06.250</td>\n",
       "      <td>2018-04-20 00:08:14.230</td>\n",
       "      <td>2018-04-20 00:08:14.230</td>\n",
       "      <td>38</td>\n",
       "      <td>0</td>\n",
       "    </tr>\n",
       "    <tr>\n",
       "      <th>4</th>\n",
       "      <td>TH1804200053</td>\n",
       "      <td>133383091</td>\n",
       "      <td>贝海直邮</td>\n",
       "      <td>否</td>\n",
       "      <td>MPOZ</td>\n",
       "      <td>仅退款</td>\n",
       "      <td>买手缺货</td>\n",
       "      <td>退单成功</td>\n",
       "      <td>NaN</td>\n",
       "      <td>NaN</td>\n",
       "      <td>NaN</td>\n",
       "      <td>2018-04-20 00:12:56.087</td>\n",
       "      <td>接单前</td>\n",
       "      <td>2018-04-19 21:12:10.867</td>\n",
       "      <td>2018-04-20 00:12:56.080</td>\n",
       "      <td>2018-04-20 00:12:56.080</td>\n",
       "      <td>1</td>\n",
       "      <td>0</td>\n",
       "    </tr>\n",
       "  </tbody>\n",
       "</table>\n",
       "</div>"
      ],
      "text/plain": [
       "            退单号        订单号   物流方式 是否预定商品         买手名 退款类型   退款原因 当前退单状态 客服定责  \\\n",
       "0  TH1804200003  133385632   贝海直邮      否        MPOZ  仅退款   买手缺货   退单成功  NaN   \n",
       "1  TH1804200004  133381735     拼邮      否  SEVENITALY  仅退款   买手缺货   退单成功  NaN   \n",
       "2  TH1804200023  133340986   贝海直邮      否        小卓小柔  仅退款   买手缺货   退单成功  NaN   \n",
       "3  TH1804200030  132670074  第三方直邮      否       悦购淘欧洲  仅退款  没有收到货   退单成功  NaN   \n",
       "4  TH1804200053  133383091   贝海直邮      否        MPOZ  仅退款   买手缺货   退单成功  NaN   \n",
       "\n",
       "  定责备注  定责人                    定责时间 何时申请退款                  订单付款时间  \\\n",
       "0  NaN  NaN 2018-04-20 00:00:08.427    接单前 2018-04-19 23:00:20.683   \n",
       "1  NaN  NaN 2018-04-20 00:00:28.777    接单前 2018-04-19 19:55:09.923   \n",
       "2  NaN  NaN 2018-04-20 00:06:36.073    接单前 2018-04-17 22:23:20.663   \n",
       "3  NaN  NaN 2018-04-20 00:08:14.227    接单后 2018-03-13 10:19:06.250   \n",
       "4  NaN  NaN 2018-04-20 00:12:56.087    接单前 2018-04-19 21:12:10.867   \n",
       "\n",
       "                退单第一次申请时间              退单最新一次申请时间  最新申请时间减去付款时间(天)  \\\n",
       "0 2018-04-20 00:00:08.443 2018-04-20 00:00:08.443                1   \n",
       "1 2018-04-20 00:00:28.780 2018-04-20 00:00:28.780                1   \n",
       "2 2018-04-20 00:06:36.060 2018-04-20 00:06:36.060                3   \n",
       "3 2018-04-20 00:08:14.230 2018-04-20 00:08:14.230               38   \n",
       "4 2018-04-20 00:12:56.080 2018-04-20 00:12:56.080                1   \n",
       "\n",
       "   最新申请时间减去第一次申请时间(天)  \n",
       "0                   0  \n",
       "1                   0  \n",
       "2                   0  \n",
       "3                   0  \n",
       "4                   0  "
      ]
     },
     "execution_count": 122,
     "metadata": {},
     "output_type": "execute_result"
    }
   ],
   "source": [
    "df.head()\n"
   ]
  },
  {
   "cell_type": "code",
   "execution_count": 41,
   "metadata": {},
   "outputs": [
    {
     "name": "stdout",
     "output_type": "stream",
     "text": [
      "<class 'pandas.core.series.Series'>\n",
      "是否预定商品\n",
      "否    18633\n",
      "是     1078\n",
      "Name: 退单号, dtype: int64\n"
     ]
    }
   ],
   "source": [
    "df2=df.groupby(\"是否预定商品\")[\"退单号\"].count()\n",
    "print(type(df2))\n",
    "print(df2)"
   ]
  },
  {
   "cell_type": "code",
   "execution_count": null,
   "metadata": {},
   "outputs": [],
   "source": []
  },
  {
   "cell_type": "code",
   "execution_count": null,
   "metadata": {},
   "outputs": [],
   "source": []
  },
  {
   "cell_type": "code",
   "execution_count": null,
   "metadata": {},
   "outputs": [],
   "source": []
  },
  {
   "cell_type": "code",
   "execution_count": null,
   "metadata": {},
   "outputs": [],
   "source": []
  },
  {
   "cell_type": "code",
   "execution_count": 57,
   "metadata": {},
   "outputs": [
    {
     "data": {
      "text/plain": [
       "3417"
      ]
     },
     "execution_count": 57,
     "metadata": {},
     "output_type": "execute_result"
    }
   ],
   "source": [
    "df_nosend[\"退单号\"].count()"
   ]
  },
  {
   "cell_type": "code",
   "execution_count": 112,
   "metadata": {},
   "outputs": [
    {
     "name": "stderr",
     "output_type": "stream",
     "text": [
      "/Users/four/anaconda3/lib/python3.6/site-packages/ipykernel_launcher.py:3: SettingWithCopyWarning: \n",
      "A value is trying to be set on a copy of a slice from a DataFrame.\n",
      "Try using .loc[row_indexer,col_indexer] = value instead\n",
      "\n",
      "See the caveats in the documentation: http://pandas.pydata.org/pandas-docs/stable/indexing.html#indexing-view-versus-copy\n",
      "  This is separate from the ipykernel package so we can avoid doing imports until\n"
     ]
    }
   ],
   "source": [
    "#define the scope of bins\n",
    "bins=[-1,3,6,9,12,30,1000]\n",
    "df_norecive[\"gapgroup\"]=pd.cut(df_norecive[\"最新申请时间减去付款时间(天)\"],bins)\n",
    "df_group1=pd.DataFrame(df_norecive[\"gapgroup\"].value_counts().sort_index())"
   ]
  },
  {
   "cell_type": "code",
   "execution_count": 113,
   "metadata": {},
   "outputs": [
    {
     "data": {
      "text/plain": [
       "5814"
      ]
     },
     "execution_count": 113,
     "metadata": {},
     "output_type": "execute_result"
    }
   ],
   "source": [
    "df_group1[\"gapgroup\"].sum(axis=0)"
   ]
  },
  {
   "cell_type": "code",
   "execution_count": 114,
   "metadata": {},
   "outputs": [],
   "source": [
    "df_group1[\"percent\"]=df_group1[\"gapgroup\"]/df_group1[\"gapgroup\"].sum(axis=0)"
   ]
  },
  {
   "cell_type": "code",
   "execution_count": 115,
   "metadata": {},
   "outputs": [
    {
     "data": {
      "text/html": [
       "<div>\n",
       "<style>\n",
       "    .dataframe thead tr:only-child th {\n",
       "        text-align: right;\n",
       "    }\n",
       "\n",
       "    .dataframe thead th {\n",
       "        text-align: left;\n",
       "    }\n",
       "\n",
       "    .dataframe tbody tr th {\n",
       "        vertical-align: top;\n",
       "    }\n",
       "</style>\n",
       "<table border=\"1\" class=\"dataframe\">\n",
       "  <thead>\n",
       "    <tr style=\"text-align: right;\">\n",
       "      <th></th>\n",
       "      <th>gapgroup</th>\n",
       "      <th>percent</th>\n",
       "    </tr>\n",
       "  </thead>\n",
       "  <tbody>\n",
       "    <tr>\n",
       "      <th>(-1, 3]</th>\n",
       "      <td>145</td>\n",
       "      <td>0.024940</td>\n",
       "    </tr>\n",
       "    <tr>\n",
       "      <th>(3, 6]</th>\n",
       "      <td>270</td>\n",
       "      <td>0.046440</td>\n",
       "    </tr>\n",
       "    <tr>\n",
       "      <th>(6, 9]</th>\n",
       "      <td>376</td>\n",
       "      <td>0.064671</td>\n",
       "    </tr>\n",
       "    <tr>\n",
       "      <th>(9, 12]</th>\n",
       "      <td>505</td>\n",
       "      <td>0.086859</td>\n",
       "    </tr>\n",
       "    <tr>\n",
       "      <th>(12, 30]</th>\n",
       "      <td>3125</td>\n",
       "      <td>0.537496</td>\n",
       "    </tr>\n",
       "    <tr>\n",
       "      <th>(30, 1000]</th>\n",
       "      <td>1393</td>\n",
       "      <td>0.239594</td>\n",
       "    </tr>\n",
       "  </tbody>\n",
       "</table>\n",
       "</div>"
      ],
      "text/plain": [
       "            gapgroup   percent\n",
       "(-1, 3]          145  0.024940\n",
       "(3, 6]           270  0.046440\n",
       "(6, 9]           376  0.064671\n",
       "(9, 12]          505  0.086859\n",
       "(12, 30]        3125  0.537496\n",
       "(30, 1000]      1393  0.239594"
      ]
     },
     "execution_count": 115,
     "metadata": {},
     "output_type": "execute_result"
    }
   ],
   "source": [
    "df_group1"
   ]
  },
  {
   "cell_type": "code",
   "execution_count": 116,
   "metadata": {},
   "outputs": [
    {
     "name": "stderr",
     "output_type": "stream",
     "text": [
      "/Users/four/anaconda3/lib/python3.6/site-packages/ipykernel_launcher.py:1: SettingWithCopyWarning: \n",
      "A value is trying to be set on a copy of a slice from a DataFrame.\n",
      "Try using .loc[row_indexer,col_indexer] = value instead\n",
      "\n",
      "See the caveats in the documentation: http://pandas.pydata.org/pandas-docs/stable/indexing.html#indexing-view-versus-copy\n",
      "  \"\"\"Entry point for launching an IPython kernel.\n"
     ]
    }
   ],
   "source": [
    "df_nosend[\"gapgroup\"]=pd.cut(df_nosend[\"最新申请时间减去付款时间(天)\"],bins)\n",
    "df_group2=pd.DataFrame(df_nosend[\"gapgroup\"].value_counts().sort_index())"
   ]
  },
  {
   "cell_type": "code",
   "execution_count": 117,
   "metadata": {},
   "outputs": [
    {
     "data": {
      "text/plain": [
       "3417"
      ]
     },
     "execution_count": 117,
     "metadata": {},
     "output_type": "execute_result"
    }
   ],
   "source": [
    "df_group2[\"gapgroup\"].sum()"
   ]
  },
  {
   "cell_type": "code",
   "execution_count": 118,
   "metadata": {},
   "outputs": [],
   "source": [
    "df_group2[\"percent\"]=df_group2[\"gapgroup\"]/df_group2[\"gapgroup\"].sum(axis=0)"
   ]
  },
  {
   "cell_type": "code",
   "execution_count": 119,
   "metadata": {},
   "outputs": [
    {
     "data": {
      "text/html": [
       "<div>\n",
       "<style>\n",
       "    .dataframe thead tr:only-child th {\n",
       "        text-align: right;\n",
       "    }\n",
       "\n",
       "    .dataframe thead th {\n",
       "        text-align: left;\n",
       "    }\n",
       "\n",
       "    .dataframe tbody tr th {\n",
       "        vertical-align: top;\n",
       "    }\n",
       "</style>\n",
       "<table border=\"1\" class=\"dataframe\">\n",
       "  <thead>\n",
       "    <tr style=\"text-align: right;\">\n",
       "      <th></th>\n",
       "      <th>gapgroup</th>\n",
       "      <th>percent</th>\n",
       "    </tr>\n",
       "  </thead>\n",
       "  <tbody>\n",
       "    <tr>\n",
       "      <th>(-1, 3]</th>\n",
       "      <td>1292</td>\n",
       "      <td>0.378109</td>\n",
       "    </tr>\n",
       "    <tr>\n",
       "      <th>(3, 6]</th>\n",
       "      <td>830</td>\n",
       "      <td>0.242903</td>\n",
       "    </tr>\n",
       "    <tr>\n",
       "      <th>(6, 9]</th>\n",
       "      <td>418</td>\n",
       "      <td>0.122330</td>\n",
       "    </tr>\n",
       "    <tr>\n",
       "      <th>(9, 12]</th>\n",
       "      <td>259</td>\n",
       "      <td>0.075797</td>\n",
       "    </tr>\n",
       "    <tr>\n",
       "      <th>(12, 30]</th>\n",
       "      <td>472</td>\n",
       "      <td>0.138133</td>\n",
       "    </tr>\n",
       "    <tr>\n",
       "      <th>(30, 1000]</th>\n",
       "      <td>146</td>\n",
       "      <td>0.042728</td>\n",
       "    </tr>\n",
       "  </tbody>\n",
       "</table>\n",
       "</div>"
      ],
      "text/plain": [
       "            gapgroup   percent\n",
       "(-1, 3]         1292  0.378109\n",
       "(3, 6]           830  0.242903\n",
       "(6, 9]           418  0.122330\n",
       "(9, 12]          259  0.075797\n",
       "(12, 30]         472  0.138133\n",
       "(30, 1000]       146  0.042728"
      ]
     },
     "execution_count": 119,
     "metadata": {},
     "output_type": "execute_result"
    }
   ],
   "source": [
    "df_group2"
   ]
  },
  {
   "cell_type": "code",
   "execution_count": 8,
   "metadata": {
    "collapsed": true
   },
   "outputs": [],
   "source": [
    "data=['ACME',50,91.1,(2012,12,21)]\n",
    "name,shares,price,date=data\n"
   ]
  },
  {
   "cell_type": "code",
   "execution_count": 9,
   "metadata": {},
   "outputs": [
    {
     "data": {
      "text/plain": [
       "'ACME'"
      ]
     },
     "execution_count": 9,
     "metadata": {},
     "output_type": "execute_result"
    }
   ],
   "source": [
    "name"
   ]
  },
  {
   "cell_type": "code",
   "execution_count": 10,
   "metadata": {},
   "outputs": [
    {
     "data": {
      "text/plain": [
       "(2012, 12, 21)"
      ]
     },
     "execution_count": 10,
     "metadata": {},
     "output_type": "execute_result"
    }
   ],
   "source": [
    "date"
   ]
  },
  {
   "cell_type": "code",
   "execution_count": 11,
   "metadata": {},
   "outputs": [
    {
     "data": {
      "text/plain": [
       "'ACME'"
      ]
     },
     "execution_count": 11,
     "metadata": {},
     "output_type": "execute_result"
    }
   ],
   "source": [
    "name,shares,price,(year,mon,day)=data\n",
    "name"
   ]
  },
  {
   "cell_type": "code",
   "execution_count": 12,
   "metadata": {},
   "outputs": [
    {
     "data": {
      "text/plain": [
       "2012"
      ]
     },
     "execution_count": 12,
     "metadata": {},
     "output_type": "execute_result"
    }
   ],
   "source": [
    "year"
   ]
  },
  {
   "cell_type": "code",
   "execution_count": 13,
   "metadata": {},
   "outputs": [
    {
     "data": {
      "text/plain": [
       "12"
      ]
     },
     "execution_count": 13,
     "metadata": {},
     "output_type": "execute_result"
    }
   ],
   "source": [
    "mon"
   ]
  },
  {
   "cell_type": "code",
   "execution_count": 14,
   "metadata": {},
   "outputs": [
    {
     "data": {
      "text/plain": [
       "21"
      ]
     },
     "execution_count": 14,
     "metadata": {},
     "output_type": "execute_result"
    }
   ],
   "source": [
    "day"
   ]
  },
  {
   "cell_type": "code",
   "execution_count": 15,
   "metadata": {},
   "outputs": [
    {
     "ename": "ValueError",
     "evalue": "not enough values to unpack (expected 3, got 2)",
     "output_type": "error",
     "traceback": [
      "\u001b[0;31m---------------------------------------------------------------------------\u001b[0m",
      "\u001b[0;31mValueError\u001b[0m                                Traceback (most recent call last)",
      "\u001b[0;32m<ipython-input-15-55859be6323c>\u001b[0m in \u001b[0;36m<module>\u001b[0;34m()\u001b[0m\n\u001b[1;32m      1\u001b[0m \u001b[0mp\u001b[0m\u001b[0;34m=\u001b[0m\u001b[0;34m(\u001b[0m\u001b[0;36m4\u001b[0m\u001b[0;34m,\u001b[0m\u001b[0;36m5\u001b[0m\u001b[0;34m)\u001b[0m\u001b[0;34m\u001b[0m\u001b[0m\n\u001b[0;32m----> 2\u001b[0;31m \u001b[0mx\u001b[0m\u001b[0;34m,\u001b[0m\u001b[0my\u001b[0m\u001b[0;34m,\u001b[0m\u001b[0mz\u001b[0m\u001b[0;34m=\u001b[0m\u001b[0mp\u001b[0m\u001b[0;34m\u001b[0m\u001b[0m\n\u001b[0m",
      "\u001b[0;31mValueError\u001b[0m: not enough values to unpack (expected 3, got 2)"
     ]
    }
   ],
   "source": [
    "p=(4,5)\n",
    "x,y,z=p"
   ]
  },
  {
   "cell_type": "code",
   "execution_count": 16,
   "metadata": {},
   "outputs": [
    {
     "data": {
      "text/plain": [
       "'H'"
      ]
     },
     "execution_count": 16,
     "metadata": {},
     "output_type": "execute_result"
    }
   ],
   "source": [
    "s='Hello'\n",
    "a,b,c,d,e=s\n",
    "a"
   ]
  },
  {
   "cell_type": "code",
   "execution_count": 17,
   "metadata": {},
   "outputs": [
    {
     "data": {
      "text/plain": [
       "'e'"
      ]
     },
     "execution_count": 17,
     "metadata": {},
     "output_type": "execute_result"
    }
   ],
   "source": [
    "b"
   ]
  },
  {
   "cell_type": "code",
   "execution_count": 18,
   "metadata": {},
   "outputs": [
    {
     "data": {
      "text/plain": [
       "'l'"
      ]
     },
     "execution_count": 18,
     "metadata": {},
     "output_type": "execute_result"
    }
   ],
   "source": [
    "c"
   ]
  },
  {
   "cell_type": "code",
   "execution_count": 19,
   "metadata": {},
   "outputs": [
    {
     "data": {
      "text/plain": [
       "'l'"
      ]
     },
     "execution_count": 19,
     "metadata": {},
     "output_type": "execute_result"
    }
   ],
   "source": [
    "d"
   ]
  },
  {
   "cell_type": "code",
   "execution_count": 20,
   "metadata": {},
   "outputs": [
    {
     "data": {
      "text/plain": [
       "'o'"
      ]
     },
     "execution_count": 20,
     "metadata": {},
     "output_type": "execute_result"
    }
   ],
   "source": [
    "e"
   ]
  },
  {
   "cell_type": "code",
   "execution_count": 1,
   "metadata": {},
   "outputs": [
    {
     "name": "stdout",
     "output_type": "stream",
     "text": [
      "foo 1 2\n",
      "bar hello\n",
      "foo 3 4\n"
     ]
    }
   ],
   "source": [
    "records=[('foo',1,2),('bar','hello'),('foo',3,4)]\n",
    "def do_foo(x,y):\n",
    "    print('foo',x,y)\n",
    "def do_bar(s):\n",
    "    print('bar',s)\n",
    "for tag,*args in records:\n",
    "    if tag=='foo':\n",
    "        do_foo(*args)\n",
    "    elif tag=='bar':\n",
    "        do_bar(*args)"
   ]
  },
  {
   "cell_type": "code",
   "execution_count": 48,
   "metadata": {},
   "outputs": [
    {
     "name": "stdout",
     "output_type": "stream",
     "text": [
      "           stockid   tradedate   open   high  close    low    volume  \\\n",
      "date                                                                   \n",
      "2018-01-11  002174  2018-01-11  22.36  22.93  22.60  22.23  38306.79   \n",
      "2018-01-10  002174  2018-01-10  22.93  23.04  22.50  22.21  51348.31   \n",
      "2018-01-09  002174  2018-01-09  23.00  23.49  22.91  22.71  45744.98   \n",
      "2018-01-08  002174  2018-01-08  22.93  23.08  22.92  22.50  39468.47   \n",
      "2018-01-05  002174  2018-01-05  23.59  23.75  22.92  22.85  45151.54   \n",
      "\n",
      "            price_change  p_change     ma5    ma10    ma20     v_ma5  \\\n",
      "date                                                                   \n",
      "2018-01-11          0.10      0.44  22.770  22.965  23.123  44004.02   \n",
      "2018-01-10         -0.41     -1.79  22.968  23.030  23.135  45382.51   \n",
      "2018-01-09         -0.01     -0.04  23.248  23.097  23.151  48479.57   \n",
      "2018-01-08          0.00      0.00  23.358  23.125  23.175  54895.70   \n",
      "2018-01-05         -0.67     -2.84  23.234  23.189  23.170  62301.53   \n",
      "\n",
      "              v_ma10    v_ma20  turnover  \n",
      "date                                      \n",
      "2018-01-11  53144.11  59740.09      0.67  \n",
      "2018-01-10  52839.51  60298.19      0.89  \n",
      "2018-01-09  49915.24  61709.92      0.80  \n",
      "2018-01-08  50547.53  64883.42      0.69  \n",
      "2018-01-05  51373.05  69679.39      0.79  \n"
     ]
    }
   ],
   "source": [
    "import tushare as ts\n",
    "import matplotlib.pyplot as plt\n",
    "import pandas as pd\n",
    "import pymysql.cursors\n",
    "import time\n",
    "import pymysql \n",
    "\n",
    "\n",
    "def getstockdata(stockid,starttime,endtime):\n",
    "\n",
    "    df=ts.get_hist_data(stockid,start=starttime,end=endtime)\n",
    "#add the stockinfo to the stockdata\n",
    "    df['stockid']=stockid\n",
    "    df['tradedate']=df.index\n",
    "\n",
    "#create a dataframe to save the stockdata;must have the same index with df\n",
    "    df_stockinfo=df[['stockid','tradedate']]\n",
    "\n",
    "#delete the stockinfo from stockhist\n",
    "    df.drop(labels=['stockid','tradedate'], axis=1,inplace = True)\n",
    "# merge the stockinfo with stockdata and save in the df_stock\n",
    "    df_stock=df_stockinfo.merge(df,right_index=True,left_index=True)\n",
    "    return df_stock\n",
    "\n",
    "#define function to convert the dataframe to list contains tuple\n",
    "def convertdata(dfstock):\n",
    "        list_row=dfstock.shape[0]\n",
    "        #create  the list to transport values to mysql\n",
    "        values=[]\n",
    "        for i in range(list_row):\n",
    "            # chose every row and convert its type (series)   to list\n",
    "            value=np.array(dfstock.iloc[i])\n",
    "            #convert list to tuple and add to the end of values\n",
    "            tuple_value=tuple(value)\n",
    "            values.apped(tuple_value)\n",
    "        return values\n",
    "            \n",
    "\n",
    "\n",
    "def savetomysql(values):\n",
    "        # Connect to the database\n",
    "\n",
    "    connection = pymysql.connect(host='localhost',\n",
    "                             user='root',\n",
    "                             password='123456',\n",
    "                             db='analysis',\n",
    "                             charset='utf8mb4',\n",
    "                             cursorclass=pymysql.cursors.DictCursor)\n",
    "    values=[('000947777','test09'),('0987544464','test00'),('098665676444','test90'),('0646464654444','test30'),('0009877778765','test09876')]\n",
    "    try:\n",
    "        with connection.cursor() as cursor:\n",
    "        #Create a new record\n",
    "        sql = \"INSERT INTO `stocks_data` ('stockid','tradedate','open','high','close','low','volume','price_change','p_change','ma5','ma10','ma20','v_ma5','v_ma10','v_ma20','turnover') \n",
    "        VALUES (%s, %s,%s, %s,%s, %s,%s, %s,%s, %s,%s, %s,%s, %s,%s, %s)\"\n",
    "        cursor.executemany(sql,values)\n",
    "\n",
    "    # connection is not autocommit by default. So you must commit to save\n",
    "    # your changes.\n",
    "        connection.commit() #commit changes to stable storage\n",
    "\n",
    "   # with connection.cursor() as cursor:\n",
    "        # Read a single record\n",
    "   #     sql = \"SELECT `stockid`, `stockname` FROM `stocks_id` \"\n",
    "   #     cursor.execute(sql)\n",
    "     #   result = cursor.fetchone()\n",
    "    #    print(result)\n",
    "\n",
    "    except Exception as e:\n",
    "    #throw the exception\n",
    "         print (e)\n",
    "         connection.rollback() #Roll back the current transaction\n",
    "    \n",
    "        \n",
    "    finally:\n",
    "        cursor.close()\n",
    "        connection.close()\n",
    "\n",
    "         \n",
    "\n",
    "if __name__==\"__main()__\":\n",
    "    \n",
    "    begintime=time.time()\n",
    "    \n",
    "     #define the stockid and begintime and endtime\n",
    "    stockid='002174'\n",
    "    starttime='2017-01-01'\n",
    "    endtime='2018-01-11'\n",
    "    df_stock=getstockdata(stockid,starttime,endtime)\n",
    "    values=convertdata(df_stock)\n",
    "    savetomysql(values)\n",
    "    endtime=time.time()\n",
    "    print(begintime-endtime)\n",
    "\n"
   ]
  },
  {
   "cell_type": "code",
   "execution_count": 1,
   "metadata": {
    "collapsed": true
   },
   "outputs": [],
   "source": [
    "#import pymysql\n",
    "#db = pymysql.connect(\"localhost\", \"root\", \"123456\", \"test\") "
   ]
  },
  {
   "cell_type": "code",
   "execution_count": null,
   "metadata": {
    "collapsed": true
   },
   "outputs": [],
   "source": []
  },
  {
   "cell_type": "code",
   "execution_count": null,
   "metadata": {
    "collapsed": true
   },
   "outputs": [],
   "source": []
  },
  {
   "cell_type": "code",
   "execution_count": 102,
   "metadata": {},
   "outputs": [
    {
     "name": "stdout",
     "output_type": "stream",
     "text": [
      "-0.004030942916870117\n"
     ]
    }
   ],
   "source": [
    "import pymysql.cursors\n",
    "import time\n",
    "import pymysql \n",
    "\n",
    "# Connect to the database\n",
    "begintime=time.time()\n",
    "connection = pymysql.connect(host='localhost',\n",
    "                             user='root',\n",
    "                             password='123456',\n",
    "                             db='analysis',\n",
    "                             charset='utf8mb4',\n",
    "                             cursorclass=pymysql.cursors.DictCursor)\n",
    "values=[('000947777','test09'),('0987544464','test00'),('098665676444','test90'),('0646464654444','test30'),('0009877778765','test09876')]\n",
    "try:\n",
    "    with connection.cursor() as cursor:\n",
    "        #Create a new record\n",
    "        sql = \"INSERT INTO `stocks_data` ('stockid','tradedate','open','high','close','low','volume','price_change','p_change','ma5','ma10','ma20','v_ma5','v_ma10','v_ma20','turnover') \n",
    "        VALUES (%s, %s,%s, %s,%s, %s,%s, %s,%s, %s,%s, %s,%s, %s,%s, %s)\"\n",
    "        cursor.executemany(sql,values)\n",
    "\n",
    "    # connection is not autocommit by default. So you must commit to save\n",
    "    # your changes.\n",
    "    connection.commit() #commit changes to stable storage\n",
    "\n",
    "   # with connection.cursor() as cursor:\n",
    "        # Read a single record\n",
    "   #     sql = \"SELECT `stockid`, `stockname` FROM `stocks_id` \"\n",
    "   #     cursor.execute(sql)\n",
    "     #   result = cursor.fetchone()\n",
    "    #    print(result)\n",
    "\n",
    "except Exception as e:\n",
    "    #throw the exception\n",
    "         print (e)\n",
    "         connection.rollback() #Roll back the current transaction\n",
    "    \n",
    "        \n",
    "finally:\n",
    "    cursor.close()\n",
    "    connection.close()\n",
    "endtime=time.time()\n",
    "print(begintime-endtime)"
   ]
  },
  {
   "cell_type": "code",
   "execution_count": null,
   "metadata": {
    "collapsed": true
   },
   "outputs": [],
   "source": []
  },
  {
   "cell_type": "code",
   "execution_count": null,
   "metadata": {},
   "outputs": [],
   "source": []
  },
  {
   "cell_type": "code",
   "execution_count": 121,
   "metadata": {},
   "outputs": [
    {
     "name": "stdout",
     "output_type": "stream",
     "text": [
      "-0.3679659366607666\n"
     ]
    },
    {
     "name": "stderr",
     "output_type": "stream",
     "text": [
      "/Users/four/anaconda3/lib/python3.6/site-packages/pymysql/cursors.py:323: Warning: (1265, \"Data truncated for column 'ma10' at row 1\")\n",
      "  self._do_get_result()\n",
      "/Users/four/anaconda3/lib/python3.6/site-packages/pymysql/cursors.py:323: Warning: (1265, \"Data truncated for column 'ma20' at row 1\")\n",
      "  self._do_get_result()\n",
      "/Users/four/anaconda3/lib/python3.6/site-packages/pymysql/cursors.py:323: Warning: (1265, \"Data truncated for column 'ma5' at row 1\")\n",
      "  self._do_get_result()\n"
     ]
    }
   ],
   "source": [
    "import tushare as ts\n",
    "import matplotlib.pyplot as plt\n",
    "import pandas as pd\n",
    "import pymysql.cursors\n",
    "import time\n",
    "import pymysql\n",
    "import numpy as np\n",
    "\n",
    "\n",
    "\n",
    "def getstockdata(stockid, starttime, endtime):\n",
    "    df = ts.get_hist_data(stockid, start=starttime, end=endtime)\n",
    "    df = df.astype(str)\n",
    "    # add the stockinfo to the stockdata\n",
    "    df['stockid'] = stockid\n",
    "    df['tradedate'] = df.index\n",
    "\n",
    "    # create a dataframe to save the stockdata;must have the same index with df\n",
    "    df_stockinfo = df[['stockid', 'tradedate']]\n",
    "\n",
    "    # delete the stockinfo from stockhist\n",
    "    df.drop(labels=['stockid', 'tradedate'], axis=1, inplace=True)\n",
    "    # merge the stockinfo with stockdata and save in the df_stock\n",
    "    df_stock = df_stockinfo.merge(df, right_index=True, left_index=True)\n",
    "    return df_stock\n",
    "\n",
    "\n",
    "# define function to convert the dataframe to list contains tuple\n",
    "def convertdata(dfstock):\n",
    "    list_row = dfstock.shape[0]\n",
    "    # create  the list to transport values to mysql\n",
    "    values = []\n",
    "    for i in range(list_row):\n",
    "        # chose every row and convert its type (series)   to list\n",
    "        value = pd.np.array(dfstock.iloc[i])\n",
    "        # convert list to tuple and add to the end of values\n",
    "        tuple_value = tuple(value)\n",
    "        values.append(tuple_value)\n",
    "    return values\n",
    "\n",
    "#define function to save data to mysql\n",
    "def savetomysql(values):\n",
    "    # Connect to the database\n",
    "\n",
    "    connection = pymysql.connect(host='localhost',user='root',password='123456',db='analysis',charset='utf8mb4',cursorclass=pymysql.cursors.DictCursor)\n",
    "\n",
    "    try:\n",
    "        with connection.cursor() as cursor:\n",
    "    # Create a new record\n",
    "            #sql = \"INSERT INTO stocks_data('stockid'，'tradedate'，'open'，'high'，'close','low','volume','price_change','p_change','ma5','ma10','ma20','v_ma5','v_ma10','v_ma20','turnover') VALUES( %s, %s, %s, %s, %s, %s, %s, %s, %s, %s, %s, %s, %s, %s, %s, %s)\"\n",
    "            sql = \"INSERT INTO stocks_data(stockid,tradedate,open,high,close,low,volume,price_change,p_change,ma5,ma10,ma20,v_ma5,v_ma10,v_ma20,turnover) VALUES( %s, %s, %s, %s, %s, %s, %s, %s, %s, %s, %s, %s, %s, %s, %s, %s)\"\n",
    "\n",
    "            cursor.executemany(sql, values)\n",
    "\n",
    "        # connection is not autocommit by default. So you must commit to save\n",
    "        # your changes.\n",
    "            connection.commit()  # commit changes to stable storage\n",
    "\n",
    "    # with connection.cursor() as cursor:\n",
    "    # Read a single record\n",
    "    #     sql = \"SELECT `stockid`, `stockname` FROM `stocks_id` \"\n",
    "    #     cursor.execute(sql)\n",
    "    #   result = cursor.fetchone()\n",
    "    #    print(result)\n",
    "\n",
    "    except Exception as e:\n",
    "        # throw the exception\n",
    "        print(\"error:\")\n",
    "        print(e)\n",
    "        connection.rollback()  # Roll back the current transaction\n",
    "\n",
    "\n",
    "    finally:\n",
    "        cursor.close()\n",
    "        connection.close()\n",
    "\n",
    "\n",
    "def main():\n",
    "    begintime = time.time()\n",
    "\n",
    "\n",
    "    # define the stockid and begintime and endtime\n",
    "   # stockid = '002174'\n",
    "   # starttime = '2017-01-01'\n",
    "   # endtime = '2018-01-12'\n",
    "   # df_stock = getstockdata(stockid, starttime, endtime)\n",
    "     #every row is a row in mysql\n",
    "    values = convertdata(df_stock)\n",
    "    #print(values)\n",
    "    savetomysql(values)\n",
    "    endtime = time.time()\n",
    "    print(begintime - endtime)\n",
    "\n",
    "#main()"
   ]
  },
  {
   "cell_type": "code",
   "execution_count": 136,
   "metadata": {},
   "outputs": [
    {
     "name": "stdout",
     "output_type": "stream",
     "text": [
      "<class 'list'>\n",
      "-0.013290882110595703\n",
      "<class 'pandas.core.frame.DataFrame'>\n"
     ]
    },
    {
     "data": {
      "image/png": "[encoded data removed]",
      "text/plain": [
       "<matplotlib.figure.Figure at 0x1120413c8>"
      ]
     },
     "metadata": {},
     "output_type": "display_data"
    },
    {
     "name": "stdout",
     "output_type": "stream",
     "text": [
      "254\n"
     ]
    }
   ],
   "source": [
    "import matplotlib.pyplot as plt\n",
    "import pandas as pd\n",
    "import pymysql.cursors\n",
    "import time\n",
    "import pymysql\n",
    "import numpy as np\n",
    "\n",
    "\n",
    "import tushare as ts\n",
    "import matplotlib.pyplot as plt\n",
    "import pandas as pd\n",
    "import pymysql.cursors\n",
    "import time\n",
    "import pymysql\n",
    "import numpy as np\n",
    "\n",
    "\n",
    "\n",
    "def getstockdata(stockid, starttime, endtime):\n",
    "    df = ts.get_hist_data(stockid, start=starttime, end=endtime)\n",
    "    df = df.astype(str)\n",
    "    # add the stockinfo to the stockdata\n",
    "    df['stockid'] = stockid\n",
    "    df['tradedate'] = df.index\n",
    "\n",
    "    # create a dataframe to save the stockdata;must have the same index with df\n",
    "    df_stockinfo = df[['stockid', 'tradedate']]\n",
    "\n",
    "    # delete the stockinfo from stockhist\n",
    "    df.drop(labels=['stockid', 'tradedate'], axis=1, inplace=True)\n",
    "    # merge the stockinfo with stockdata and save in the df_stock\n",
    "    df_stock = df_stockinfo.merge(df, right_index=True, left_index=True)\n",
    "    return df_stock\n",
    "\n",
    "\n",
    "# define function to convert the dataframe to list contains tuple\n",
    "def convertdata(dfstock):\n",
    "    list_row = dfstock.shape[0]\n",
    "    # create  the list to transport values to mysql\n",
    "    values = []\n",
    "    for i in range(list_row):\n",
    "        # chose every row and convert its type (series)   to list\n",
    "        value = pd.np.array(dfstock.iloc[i])\n",
    "        # convert list to tuple and add to the end of values\n",
    "        tuple_value = tuple(value)\n",
    "        values.append(tuple_value)\n",
    "    return values\n",
    "\n",
    "#define function to save data to mysql\n",
    "def getdata():\n",
    "    # Connect to the database\n",
    "\n",
    "    connection = pymysql.connect(host='localhost',user='root',password='123456',db='analysis',charset='utf8mb4',cursorclass=pymysql.cursors.DictCursor)\n",
    "\n",
    "    try:\n",
    "        #with connection.cursor() as cursor:\n",
    "    # Create a new record\n",
    "            #sql = \"INSERT INTO stocks_data('stockid'，'tradedate'，'open'，'high'，'close','low','volume','price_change','p_change','ma5','ma10','ma20','v_ma5','v_ma10','v_ma20','turnover') VALUES( %s, %s, %s, %s, %s, %s, %s, %s, %s, %s, %s, %s, %s, %s, %s, %s)\"\n",
    "          #  sql = \"INSERT INTO stocks_data(stockid,tradedate,open,high,close,low,volume,price_change,p_change,ma5,ma10,ma20,v_ma5,v_ma10,v_ma20,turnover) VALUES( %s, %s, %s, %s, %s, %s, %s, %s, %s, %s, %s, %s, %s, %s, %s, %s)\"\n",
    "\n",
    "           # cursor.executemany(sql, values)\n",
    "\n",
    "        # connection is not autocommit by default. So you must commit to save\n",
    "        # your changes.\n",
    "           # connection.commit()  # commit changes to stable storage\n",
    "\n",
    "        with connection.cursor() as cursor:\n",
    "    # Read a single record\n",
    "            sql = \"SELECT * FROM `stocks_data` \"\n",
    "            cursor.execute(sql)\n",
    "            result = cursor.fetchall()\n",
    "    #    print(result)\n",
    "            return result\n",
    "\n",
    "    except Exception as e:\n",
    "        # throw the exception\n",
    "        print(\"error:\")\n",
    "        print(e)\n",
    "        connection.rollback()  # Roll back the current transaction\n",
    "\n",
    "\n",
    "    finally:\n",
    "        cursor.close()\n",
    "        connection.close()\n",
    "\n",
    "\n",
    "def main():\n",
    "    begintime = time.time()\n",
    "    results=getdata()\n",
    "    df=pd.DataFrame(results)\n",
    "    #print(values)\n",
    "    endtime = time.time()\n",
    "    print(type(results))\n",
    "    print(begintime - endtime)\n",
    "    print(type(df))\n",
    "    #Edf2=df.iloc[:,0]\n",
    "    x=df['tradedate']\n",
    "    y=df['open']\n",
    "    plt.plot(x,y,'-b')\n",
    "    plt.show()\n",
    "    print(df.shape[0])\n",
    "\n",
    "main()\n"
   ]
  },
  {
   "cell_type": "code",
   "execution_count": 18,
   "metadata": {},
   "outputs": [
    {
     "data": {
      "image/png": "[encoded data removed]",
      "text/plain": [
       "<Figure size 432x288 with 1 Axes>"
      ]
     },
     "metadata": {},
     "output_type": "display_data"
    }
   ],
   "source": [
    "#使用封装函数画图\n",
    "import matplotlib.pyplot as plt\n",
    "import numpy as np\n",
    "\n",
    "x=np.random.randint(1,100,50)\n",
    "y=np.random.randint(2,100,50)\n",
    "plt.scatter(x,y,color='r',alpha=0.5)\n",
    "plt.xlabel(\"x-label\")\n",
    "plt.title(\"title\")\n",
    "plt.grid()\n",
    "plt.show()"
   ]
  },
  {
   "cell_type": "code",
   "execution_count": 19,
   "metadata": {},
   "outputs": [
    {
     "data": {
      "image/png": "[encoded data removed]",
      "text/plain": [
       "<Figure size 432x288 with 2 Axes>"
      ]
     },
     "metadata": {},
     "output_type": "display_data"
    }
   ],
   "source": [
    "#使用面向对象画图\n",
    "import matplotlib.pyplot as plt\n",
    "import numpy as np\n",
    "\n",
    "x=np.random.randint(1,100,40)\n",
    "y=np.random.randint(2,90,40)\n",
    "fig=plt.figure()\n",
    "ax1=fig.add_subplot(121)\n",
    "ax2=fig.add_subplot(122)\n",
    "ax1.scatter(x,y)\n",
    "ax2.plot(x,x+3)\n",
    "plt.show()"
   ]
  },
  {
   "cell_type": "code",
   "execution_count": 20,
   "metadata": {},
   "outputs": [
    {
     "data": {
      "text/plain": [
       "504"
      ]
     },
     "execution_count": 20,
     "metadata": {},
     "output_type": "execute_result"
    }
   ],
   "source": [
    " a=36*14\n",
    "a"
   ]
  },
  {
   "cell_type": "code",
   "execution_count": 23,
   "metadata": {},
   "outputs": [],
   "source": [
    "b=36*1.3"
   ]
  },
  {
   "cell_type": "code",
   "execution_count": 24,
   "metadata": {},
   "outputs": [
    {
     "data": {
      "text/plain": [
       "46.800000000000004"
      ]
     },
     "execution_count": 24,
     "metadata": {},
     "output_type": "execute_result"
    }
   ],
   "source": [
    "b"
   ]
  },
  {
   "cell_type": "code",
   "execution_count": null,
   "metadata": {},
   "outputs": [],
   "source": [
    "c="
   ]
  }
 ],
 "metadata": {
  "kernelspec": {
   "display_name": "Python 3",
   "language": "python",
   "name": "python3"
  },
  "language_info": {
   "codemirror_mode": {
    "name": "ipython",
    "version": 3
   },
   "file_extension": ".py",
   "mimetype": "text/x-python",
   "name": "python",
   "nbconvert_exporter": "python",
   "pygments_lexer": "ipython3",
   "version": "3.7.0"
  }
 },
 "nbformat": 4,
 "nbformat_minor": 2
}
